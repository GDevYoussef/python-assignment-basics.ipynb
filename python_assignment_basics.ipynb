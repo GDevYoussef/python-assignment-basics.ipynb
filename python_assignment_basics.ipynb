{
  "nbformat": 4,
  "nbformat_minor": 0,
  "metadata": {
    "colab": {
      "name": "python-assignment-basics.ipynb",
      "provenance": [],
      "authorship_tag": "ABX9TyOsI11dBuHnNkOAvzoDShZw",
      "include_colab_link": true
    },
    "kernelspec": {
      "name": "python3",
      "display_name": "Python 3"
    },
    "language_info": {
      "name": "python"
    }
  },
  "cells": [
    {
      "cell_type": "markdown",
      "metadata": {
        "id": "view-in-github",
        "colab_type": "text"
      },
      "source": [
        "<a href=\"https://colab.research.google.com/github/GDevYoussef/python-assignment-basics.ipynb/blob/main/python_assignment_basics.ipynb\" target=\"_parent\"><img src=\"https://colab.research.google.com/assets/colab-badge.svg\" alt=\"Open In Colab\"/></a>"
      ]
    },
    {
      "cell_type": "code",
      "execution_count": 3,
      "metadata": {
        "colab": {
          "base_uri": "https://localhost:8080/"
        },
        "id": "BkTW8VS1c64C",
        "outputId": "8a1d8708-db0b-4dc9-b733-1853651ca13b"
      },
      "outputs": [
        {
          "output_type": "stream",
          "name": "stdout",
          "text": [
            "First Name: y\n",
            "Last Name: g\n",
            "Full Name: g y\n"
          ]
        }
      ],
      "source": [
        "# Question 1\n",
        "# Write a Python program that accepts the user's first and last name, and prints\n",
        "# them in reverse order with a space between them.\n",
        "first_name = input(\"First Name: \")\n",
        "last_name = input(\"Last Name: \")\n",
        "temp = first_name\n",
        "first_name = last_name\n",
        "last_name = temp\n",
        "print(f\"Full Name: {first_name} {last_name}\")\n"
      ]
    },
    {
      "cell_type": "code",
      "source": [
        "# Question 2\n",
        "# Write a Python program that accepts an integer (n) and computes \n",
        "# the value of n+nn+nnn. The sample value of n is 5.\n",
        "number = input(\"Number: \")\n",
        "n = int(number)\n",
        "nn = int(number + number)\n",
        "nnn = int(number + number + number)\n",
        "print(f\"{n + nn + nnn}\")\n"
      ],
      "metadata": {
        "colab": {
          "base_uri": "https://localhost:8080/"
        },
        "id": "Rs1jMrnJfXMe",
        "outputId": "6bafbbb4-679b-46bb-d5db-f24aad95f4da"
      },
      "execution_count": 9,
      "outputs": [
        {
          "output_type": "stream",
          "name": "stdout",
          "text": [
            "Number: 10\n",
            "102030\n"
          ]
        }
      ]
    },
    {
      "cell_type": "code",
      "source": [
        "# Question 3\n",
        "# Write a Python program to find whether a given number (accept from the user)\n",
        "# is even or odd, and print out an appropriate message to the user.\n",
        "tested_number = int(input(\"Enter number: \"))\n",
        "if tested_number % 2 == 0:\n",
        "    print(\"it's even\")\n",
        "else:\n",
        "    print(\"it's odd\")\n"
      ],
      "metadata": {
        "colab": {
          "base_uri": "https://localhost:8080/"
        },
        "id": "rHgl586hiEWk",
        "outputId": "0994e189-77d5-42ff-baf2-c21b1f727d6d"
      },
      "execution_count": 15,
      "outputs": [
        {
          "output_type": "stream",
          "name": "stdout",
          "text": [
            "Enter number: 11\n",
            "it's odd\n"
          ]
        }
      ]
    },
    {
      "cell_type": "code",
      "source": [
        "# Question 4\n",
        "# Write a program which will find all such numbers which are divisible by 7 but \n",
        "# are not a multiple of 5, between 2000 and 3200 (both included). The numbers \n",
        "# obtained should be printed in a sequence on a single line.\n",
        "# Hints: Consider use range(#begin, #end) method \n",
        "for n in range(2000, 3201):\n",
        "    if n % 5 != 0 and n % 7 == 0:\n",
        "        print(n,end = \"-\")"
      ],
      "metadata": {
        "colab": {
          "base_uri": "https://localhost:8080/"
        },
        "id": "Io0i5BpekTun",
        "outputId": "7fa836c9-4337-4505-d16f-66d3995f0c59"
      },
      "execution_count": 19,
      "outputs": [
        {
          "output_type": "stream",
          "name": "stdout",
          "text": [
            "2002-2009-2016-2023-2037-2044-2051-2058-2072-2079-2086-2093-2107-2114-2121-2128-2142-2149-2156-2163-2177-2184-2191-2198-2212-2219-2226-2233-2247-2254-2261-2268-2282-2289-2296-2303-2317-2324-2331-2338-2352-2359-2366-2373-2387-2394-2401-2408-2422-2429-2436-2443-2457-2464-2471-2478-2492-2499-2506-2513-2527-2534-2541-2548-2562-2569-2576-2583-2597-2604-2611-2618-2632-2639-2646-2653-2667-2674-2681-2688-2702-2709-2716-2723-2737-2744-2751-2758-2772-2779-2786-2793-2807-2814-2821-2828-2842-2849-2856-2863-2877-2884-2891-2898-2912-2919-2926-2933-2947-2954-2961-2968-2982-2989-2996-3003-3017-3024-3031-3038-3052-3059-3066-3073-3087-3094-3101-3108-3122-3129-3136-3143-3157-3164-3171-3178-3192-3199-"
          ]
        }
      ]
    },
    {
      "cell_type": "code",
      "source": [
        "# Question 5\n",
        "# Write a program that can compute the factorial of a given number. \n",
        "# The results should be printed in a sequence on a single line. Suppose the \n",
        "# following input is supplied to the program: 8.\n",
        "# Then, the output should be: 40320 \n",
        "mul = int(1)\n",
        "num = int(input(\"Enter number: \"))\n",
        "nums = sorted(range(1, num+1), reverse=True)\n",
        "if nums[0] == 0 or nums[0] == 1:\n",
        "    print(f\"{nums[0]}! = 1\")\n",
        "else:\n",
        "    for n in nums:\n",
        "        mul = mul * n\n",
        "print(mul)"
      ],
      "metadata": {
        "colab": {
          "base_uri": "https://localhost:8080/"
        },
        "id": "VbRQ1bW1ns_r",
        "outputId": "70d61d00-64b2-4fd9-c310-0640b6284bfd"
      },
      "execution_count": 30,
      "outputs": [
        {
          "output_type": "stream",
          "name": "stdout",
          "text": [
            "Enter number: 8\n",
            "40320\n"
          ]
        }
      ]
    },
    {
      "cell_type": "code",
      "source": [
        "# Question 6\n",
        "# Write a program to remove the characters which have odd index values of \n",
        "# a given string.\n",
        "name = input(\"Enter name: \")\n",
        "name_alter = \"\"\n",
        "for index in range(0, len(name)):\n",
        "    if index % 2 == 0:\n",
        "        name_alter = name_alter + name[index]\n",
        "print(name_alter)"
      ],
      "metadata": {
        "colab": {
          "base_uri": "https://localhost:8080/"
        },
        "id": "GDB_A5tUycm5",
        "outputId": "5b9a2761-f328-4f25-cf04-f19e61e631b1"
      },
      "execution_count": 31,
      "outputs": [
        {
          "output_type": "stream",
          "name": "stdout",
          "text": [
            "Enter name: hello team\n",
            "hlota\n"
          ]
        }
      ]
    },
    {
      "cell_type": "code",
      "source": [
        "# Question 7\n",
        "# In this challenge, you must discount a price according to its value.\n",
        "# - If the price is 500 or above, there will be a 50% discount.\n",
        "# - If the price is between 200 and 500 (200 inclusive), \n",
        "# there will be a 30% discount.\n",
        "# - If the price is less than 200, there will be a 10% discount.\n",
        "price = int(input(\"Enter product price: \"))\n",
        "final_price = 0\n",
        "if price >= 500:\n",
        "    final_price = (price * 50) / 100\n",
        "elif price >= 200 and price < 500:\n",
        "    final_price = (price * 30) / 100\n",
        "else:\n",
        "    final_price = (price * 10) / 100\n",
        "print(final_price)\n"
      ],
      "metadata": {
        "id": "zMi2m1Ur0V8o"
      },
      "execution_count": null,
      "outputs": []
    }
  ]
}